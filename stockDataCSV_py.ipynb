{
  "nbformat": 4,
  "nbformat_minor": 0,
  "metadata": {
    "colab": {
      "provenance": [],
      "toc_visible": true,
      "include_colab_link": true
    },
    "kernelspec": {
      "name": "python3",
      "display_name": "Python 3"
    },
    "language_info": {
      "name": "python"
    }
  },
  "cells": [
    {
      "cell_type": "markdown",
      "metadata": {
        "id": "view-in-github",
        "colab_type": "text"
      },
      "source": [
        "<a href=\"https://colab.research.google.com/github/tsiracuse2201/Stock-Algorithim/blob/main/stockDataCSV_py.ipynb\" target=\"_parent\"><img src=\"https://colab.research.google.com/assets/colab-badge.svg\" alt=\"Open In Colab\"/></a>"
      ]
    },
    {
      "cell_type": "code",
      "source": [
        "!pip3 install finnhub-python\n",
        "!pip3 install discord"
      ],
      "metadata": {
        "id": "mKSOp45vlt5E",
        "outputId": "64f119ba-a909-4f2c-faa4-4e753bc686bb",
        "colab": {
          "base_uri": "https://localhost:8080/"
        }
      },
      "execution_count": null,
      "outputs": [
        {
          "output_type": "stream",
          "name": "stdout",
          "text": [
            "Looking in indexes: https://pypi.org/simple, https://us-python.pkg.dev/colab-wheels/public/simple/\n",
            "Requirement already satisfied: finnhub-python in /usr/local/lib/python3.7/dist-packages (2.4.15)\n",
            "Requirement already satisfied: requests>=2.22.0 in /usr/local/lib/python3.7/dist-packages (from finnhub-python) (2.23.0)\n",
            "Requirement already satisfied: certifi>=2017.4.17 in /usr/local/lib/python3.7/dist-packages (from requests>=2.22.0->finnhub-python) (2022.9.24)\n",
            "Requirement already satisfied: chardet<4,>=3.0.2 in /usr/local/lib/python3.7/dist-packages (from requests>=2.22.0->finnhub-python) (3.0.4)\n",
            "Requirement already satisfied: idna<3,>=2.5 in /usr/local/lib/python3.7/dist-packages (from requests>=2.22.0->finnhub-python) (2.10)\n",
            "Requirement already satisfied: urllib3!=1.25.0,!=1.25.1,<1.26,>=1.21.1 in /usr/local/lib/python3.7/dist-packages (from requests>=2.22.0->finnhub-python) (1.24.3)\n",
            "Looking in indexes: https://pypi.org/simple, https://us-python.pkg.dev/colab-wheels/public/simple/\n",
            "Collecting discord\n",
            "  Using cached discord-2.0.0-py3-none-any.whl (1.1 kB)\n",
            "  Downloading discord-1.7.3-py3-none-any.whl (1.1 kB)\n",
            "Collecting discord.py>=1.7.3\n",
            "  Downloading discord.py-1.7.3-py3-none-any.whl (786 kB)\n",
            "\u001b[K     |████████████████████████████████| 786 kB 5.2 MB/s \n",
            "\u001b[?25hCollecting aiohttp<3.8.0,>=3.6.0\n",
            "  Downloading aiohttp-3.7.4.post0-cp37-cp37m-manylinux2014_x86_64.whl (1.3 MB)\n",
            "\u001b[K     |████████████████████████████████| 1.3 MB 42.7 MB/s \n",
            "\u001b[?25hRequirement already satisfied: attrs>=17.3.0 in /usr/local/lib/python3.7/dist-packages (from aiohttp<3.8.0,>=3.6.0->discord.py>=1.7.3->discord) (22.1.0)\n",
            "Requirement already satisfied: yarl<2.0,>=1.0 in /usr/local/lib/python3.7/dist-packages (from aiohttp<3.8.0,>=3.6.0->discord.py>=1.7.3->discord) (1.8.1)\n",
            "Requirement already satisfied: typing-extensions>=3.6.5 in /usr/local/lib/python3.7/dist-packages (from aiohttp<3.8.0,>=3.6.0->discord.py>=1.7.3->discord) (4.1.1)\n",
            "Requirement already satisfied: chardet<5.0,>=2.0 in /usr/local/lib/python3.7/dist-packages (from aiohttp<3.8.0,>=3.6.0->discord.py>=1.7.3->discord) (3.0.4)\n",
            "Collecting async-timeout<4.0,>=3.0\n",
            "  Downloading async_timeout-3.0.1-py3-none-any.whl (8.2 kB)\n",
            "Requirement already satisfied: multidict<7.0,>=4.5 in /usr/local/lib/python3.7/dist-packages (from aiohttp<3.8.0,>=3.6.0->discord.py>=1.7.3->discord) (6.0.2)\n",
            "Requirement already satisfied: idna>=2.0 in /usr/local/lib/python3.7/dist-packages (from yarl<2.0,>=1.0->aiohttp<3.8.0,>=3.6.0->discord.py>=1.7.3->discord) (2.10)\n",
            "Installing collected packages: async-timeout, aiohttp, discord.py, discord\n",
            "  Attempting uninstall: async-timeout\n",
            "    Found existing installation: async-timeout 4.0.2\n",
            "    Uninstalling async-timeout-4.0.2:\n",
            "      Successfully uninstalled async-timeout-4.0.2\n",
            "  Attempting uninstall: aiohttp\n",
            "    Found existing installation: aiohttp 3.8.3\n",
            "    Uninstalling aiohttp-3.8.3:\n",
            "      Successfully uninstalled aiohttp-3.8.3\n",
            "Successfully installed aiohttp-3.7.4.post0 async-timeout-3.0.1 discord-1.7.3 discord.py-1.7.3\n"
          ]
        }
      ]
    },
    {
      "cell_type": "markdown",
      "source": [
        "# IMPORTS"
      ],
      "metadata": {
        "id": "tYawchIBpDaW"
      }
    },
    {
      "cell_type": "code",
      "execution_count": null,
      "metadata": {
        "id": "cwbHPZlNk7l4"
      },
      "outputs": [],
      "source": [
        "import finnhub\n",
        "import pandas as pd\n",
        "import requests\n",
        "from bs4 import BeautifulSoup\n",
        "import re\n",
        "import pandas as pd \n",
        "from google.colab import files\n",
        "from google.colab import drive\n",
        "import csv \n",
        "import json\n",
        "import math\n",
        "from discord import Webhook, RequestsWebhookAdapter\n",
        "import sched, time\n",
        "#import zipfile"
      ]
    },
    {
      "cell_type": "markdown",
      "source": [
        "# DATA COLLECTION FUNCTIONS"
      ],
      "metadata": {
        "id": "0UP_-guMi46K"
      }
    },
    {
      "cell_type": "code",
      "source": [
        "### Scrapes the current UNIX code \n",
        "def get_todays_unix():\n",
        "  url = 'https://www.unixtimestamp.com/index.php'\n",
        "  r = requests.get(url)\n",
        "  soup = BeautifulSoup(r.content, 'html.parser')\n",
        "  content = soup.find('div', class_='value epoch')\n",
        "  content = re.sub('\\s+', '', content.text)\n",
        "  return int(content)"
      ],
      "metadata": {
        "id": "A1NsGaY4qmZx"
      },
      "execution_count": null,
      "outputs": []
    },
    {
      "cell_type": "code",
      "source": [
        "def addSMA(close,length_of_comparison):\n",
        "  result = []\n",
        "  prices = close[::-1]\n",
        "  for x in range(len(prices)):\n",
        "    sma = 0\n",
        "    if x + length_of_comparison <= len(close):\n",
        "      for u in prices[x:x+length_of_comparison]:\n",
        "        sma += u \n",
        "      sma /= length_of_comparison \n",
        "      result.append(sma)\n",
        "    else:\n",
        "      result.append(0)\n",
        "  return result[::-1]"
      ],
      "metadata": {
        "id": "aIg5HivDiico"
      },
      "execution_count": null,
      "outputs": []
    },
    {
      "cell_type": "code",
      "source": [
        "### ORIGINAL FORMULA\n",
        "def addRSI(close,length_of_comparison):\n",
        "  result = []\n",
        "  prices = close[::-1]\n",
        "  for x in range(len(prices)):\n",
        "    if x + length_of_comparison + 1 <= len(prices):\n",
        "      up = 1 \n",
        "      down = 1 \n",
        "      for u in range(x,x+length_of_comparison):\n",
        "        change = prices[u] - prices[u+1] \n",
        "        a = 1 / length_of_comparison\n",
        "        if change > 0:\n",
        "          avU = (a * change) + (1-a)\n",
        "          up *= avU \n",
        "        if change < 0:\n",
        "          avD = (a * abs(change)) + (1-a)\n",
        "          down *= avD\n",
        "      #up /= length_of_comparison \n",
        "      #down /= length_of_comparison\n",
        "      rs = up/down\n",
        "      rsi = 100 - (100/(1+rs))\n",
        "      result.append(rsi)\n",
        "    else:\n",
        "      result.append(0)\n",
        "  return result[::-1]"
      ],
      "metadata": {
        "id": "GaQwBSVvxbqm"
      },
      "execution_count": null,
      "outputs": []
    },
    {
      "cell_type": "code",
      "source": [
        "### Adds SMA 20 - 200 Crosses\n",
        "def add_crosses(sma20,sma200):\n",
        "  result = []\n",
        "  for x in range(len(sma20)):\n",
        "    if sma20[x] > sma200[x]:\n",
        "      result.append('golden cross')\n",
        "    elif sma20[x] < sma200[x]:\n",
        "      result.append('death cross')\n",
        "    if sma20[x] == sma200[x]:\n",
        "      result.append('')\n",
        "  return result"
      ],
      "metadata": {
        "id": "JOPOALFaHORm"
      },
      "execution_count": null,
      "outputs": []
    },
    {
      "cell_type": "code",
      "source": [
        "### Adds highs and lows of specified time period \n",
        "### Input data in reverse order \n",
        "def addPriceRange(highs,lows,timeperiod):\n",
        "  result = []\n",
        "  high_list = []\n",
        "  low_list = []\n",
        "  period = timeperiod\n",
        "  for x in range(len(highs)):\n",
        "    high = highs[x]\n",
        "    low = lows[x]\n",
        "    for y in highs[x:x+period]:\n",
        "      if y > high:\n",
        "        high = y \n",
        "    high_list.append(high)\n",
        "    for u in lows[x:x+period]:\n",
        "      if u < low:\n",
        "        low = u\n",
        "    low_list.append(low)\n",
        "  result.append(high_list[::-1])\n",
        "  result.append(low_list[::-1])\n",
        "  return result\n",
        "    "
      ],
      "metadata": {
        "id": "bHwKAOxRKTtT"
      },
      "execution_count": null,
      "outputs": []
    },
    {
      "cell_type": "code",
      "source": [
        "### Find the price range score --> Returns a percentage value of how far the along the price range the current price is on the excel sheet\n",
        "#### (0-1 Scale--> 0= low, 1=high)\n",
        "def addPriceRangeScore(highs,lows,close):\n",
        "  result = []\n",
        "  for x in range(len(highs)):\n",
        "    range52 = highs[x] - lows[x]\n",
        "    numerator = close[x] - lows[x]\n",
        "    if range52 > 0:\n",
        "      score = numerator / range52\n",
        "    else:\n",
        "      score = 100\n",
        "    result.append(score)\n",
        "  return result"
      ],
      "metadata": {
        "id": "W4xZptwBUBuX"
      },
      "execution_count": null,
      "outputs": []
    },
    {
      "cell_type": "code",
      "source": [
        "### Adds a ratio of the difference between todays high and low prices and the high and low difference average of a specified time frame\n",
        "def addMarketSpreadRatio(highs,lows,length_of_comparison):\n",
        "  final = []\n",
        "  high10 = highs[::-1]\n",
        "  low10 = lows[::-1]\n",
        "  for x in range(len(high10)):\n",
        "    range10 = high10[x] - low10[x]\n",
        "    av_range = 0\n",
        "    if x+length_of_comparison <= len(high10):\n",
        "      for u in range(x,x+length_of_comparison):\n",
        "        next_range = high10[u] - low10[u]\n",
        "        av_range += next_range \n",
        "      av_range /= length_of_comparison\n",
        "      result = range10 / av_range \n",
        "      final.append(result)\n",
        "    else:\n",
        "      final.append(0)\n",
        "  return final[::-1]"
      ],
      "metadata": {
        "id": "9JuteVOIyoVa"
      },
      "execution_count": null,
      "outputs": []
    },
    {
      "cell_type": "code",
      "source": [
        "### Adds relative volume over a specified time frame\n",
        "def addRelVol(volume,length_of_comparison):\n",
        "  vol = volume[::-1]\n",
        "  result = []\n",
        "  for x in range(len(vol)):\n",
        "    currentVol = vol[x]\n",
        "    avVol = 0\n",
        "    if x+length_of_comparison <= len(vol):\n",
        "      for u in range(x,x+length_of_comparison):\n",
        "        avVol += vol[u]\n",
        "      avVol /= length_of_comparison \n",
        "      relVol = currentVol / avVol \n",
        "      result.append(relVol)\n",
        "    else:\n",
        "      result.append(0)\n",
        "  return result[::-1]"
      ],
      "metadata": {
        "id": "P8WWsFMoN4Jf"
      },
      "execution_count": null,
      "outputs": []
    },
    {
      "cell_type": "markdown",
      "source": [
        "# COMPILE POLYGON.IO DATA "
      ],
      "metadata": {
        "id": "e45i1owQtpgj"
      }
    },
    {
      "cell_type": "code",
      "source": [
        "# returns data in reverse\n",
        "###THIS SHIT IS FUCKING ASS\n",
        "def getPolygonData(tickers,start,end,timespan):\n",
        "  ### start and end should be dates formatted as such: 2020-06-23\n",
        "  apiKey = 'LqZMVUvyQ6JJVhGKsgyC8Aw_HLMtlZAp'\n",
        "  result = []\n",
        "  t = []\n",
        "  o = []\n",
        "  h = []\n",
        "  l = []\n",
        "  c = []\n",
        "  v = []\n",
        "  sma20 = []\n",
        "  sma200 = []\n",
        "  for name in tickers:\n",
        "    url = f'https://api.polygon.io/v2/aggs/ticker/{name}/range/1/{timespan}/{start}/{end}?apiKey={apiKey}'\n",
        "    form = requests.get(url)\n",
        "    data = form.content\n",
        "    dataDict = json.loads(data).get('results')\n",
        "    for entry in dataDict:\n",
        "      t.append(entry.get('t'))\n",
        "      o.append(entry.get('o'))\n",
        "      h.append(entry.get('h'))\n",
        "      l.append(entry.get('l'))\n",
        "      c.append(entry.get('c'))\n",
        "      v.append(entry.get('v'))\n",
        "    rsi = addRSI(c,20)\n",
        "    av20 = addSMA(c,20)\n",
        "    av200 = addSMA(c,200)\n",
        "    cross = add_crosses(av20,av200)\n",
        "    high52 = addPriceRange(h[::-1],l[::-1],52)[0]\n",
        "    low52 = addPriceRange(h[::-1],l[::-1],52)[1]\n",
        "    rangescore = addPriceRangeScore(h,l,c)\n",
        "    ###not taking EMA seriously in this data\n",
        "    ema20 = av20 \n",
        "    ema200 = av200\n",
        "    ###\n",
        "    high10 = addPriceRange(h[::-1],l[::-1],10)[0]\n",
        "    low10 = addPriceRange(h[::-1],l[::-1],10)[1]\n",
        "    spreadratio = addMarketSpreadRatio(high10,low10,52)\n",
        "    relvol = addRelVol(v,52)\n",
        "    final = {'t':t,'o':o,'h':h,'l':l,'c':c,'v':v,'rsi':rsi,'sma20':av20,'sma200':av200,\n",
        "             'cross':cross, '52wkHigh':high52, '52wkLow':low52, 'rangescore':rangescore,'ema20':ema20,\n",
        "             'ema200':ema200, '10dayHigh':high10, '10dayLow':low10, 'spreadRatio':spreadratio, 'relVol':relvol}\n",
        "    stock = [final,name]\n",
        "    result.append(stock)\n",
        "  return result"
      ],
      "metadata": {
        "id": "AEwp7OQety5M"
      },
      "execution_count": null,
      "outputs": []
    },
    {
      "cell_type": "markdown",
      "source": [
        "# COMPILE FINNHUB DATA "
      ],
      "metadata": {
        "id": "OlcwCFzPq5k8"
      }
    },
    {
      "cell_type": "code",
      "source": [
        "### Scrapes financial data\n",
        "#Returns List containing list of dictionaries \n",
        "# returns data in reverse\n",
        "def getFinnhubData(user):\n",
        "  #ARG user: list of tickers\n",
        "  key= 'cc06epiad3idf21ispa0'\n",
        "  client = finnhub.Client(api_key=key)\n",
        "  tickers = user\n",
        "  result = []\n",
        "  secperday = 86400\n",
        "  today = get_todays_unix()\n",
        "  av300 = today - 25920000\n",
        "  for i in tickers:\n",
        "    stock = []\n",
        "    data = client.technical_indicator(i,'D',av300, today, indicator='rsi', indicator_fields={\"timeperiod\":20})\n",
        "    sma20 = client.technical_indicator(i,'D',av300, today, indicator='sma', indicator_fields={\"timeperiod\":20})\n",
        "    sma200 = client.technical_indicator(i,'D',av300, today, indicator='sma', indicator_fields={\"timeperiod\":200})\n",
        "    ema20 = client.technical_indicator(i,'D',av300, today, indicator='ema', indicator_fields={\"timeperiod\":20})\n",
        "    ema200 = client.technical_indicator(i,'D',av300, today, indicator='ema', indicator_fields={\"timeperiod\":200})\n",
        "    adx = client.technical_indicator(i,'D', av300, today, indicator='adx', indicator_fields={\"timeperiod\":20})\n",
        "    data['sma20'] = sma20.get('sma')\n",
        "    data['sma200'] = sma200.get('sma')\n",
        "    data['cross'] = add_crosses(data['sma20'],data['sma200'])\n",
        "    data['52wkHigh'] = addPriceRange(data['h'][::-1],data['l'][::-1],52)[0]\n",
        "    data['52wkLow'] = addPriceRange(data['h'][::-1],data['l'][::-1],52)[1]\n",
        "    data['rangescore'] = addPriceRangeScore(data['52wkHigh'],data['52wkLow'],data['c'])\n",
        "    data['ema20'] = ema20.get('ema')\n",
        "    data['ema200'] = ema200.get('ema')\n",
        "    data['10dayHigh'] = addPriceRange(data['h'][::-1],data['l'][::-1],10)[0]\n",
        "    data['10dayLow'] = addPriceRange(data['h'][::-1],data['l'][::-1],10)[1]\n",
        "    data['spreadRatio'] = addMarketSpreadRatio(data['10dayHigh'],data['10dayLow'],52)\n",
        "    data['relVol'] = addRelVol(data['v'],52)\n",
        "    data['adx'] = adx.get('adx')\n",
        "    stock.append(data)\n",
        "    stock.append(i)\n",
        "    result.append(stock)\n",
        "  return result"
      ],
      "metadata": {
        "id": "ceEe8BJZGgEf"
      },
      "execution_count": null,
      "outputs": []
    },
    {
      "cell_type": "markdown",
      "source": [
        "# DOWNLOAD AND FORMAT DATA\n"
      ],
      "metadata": {
        "id": "grGrnx-Fym_Y"
      }
    },
    {
      "cell_type": "code",
      "source": [
        "### Downloads a CSV File Containing Scraped Stock data\n",
        "def assembleCSV(stock_data):\n",
        "  drive.mount('/content/drive')\n",
        "  path = '/content/drive/My Drive/output.csv'\n",
        "  for i in stock_data:\n",
        "    for y in range(len(i)-1):\n",
        "      name = i[-1]\n",
        "      time = i[y].get('t')\n",
        "      open = i[y].get('o')\n",
        "      high = i[y].get('h')\n",
        "      low = i[y].get('l')\n",
        "      close = i[y].get('c')\n",
        "      volume = i[y].get('v')\n",
        "      rsi = i[y].get('rsi')\n",
        "      sma20 = i[y].get('sma20')\n",
        "      sma200 = i[y].get('sma200')\n",
        "      rate = i[y].get('cross')\n",
        "      high52 = i[y].get('52wkHigh')\n",
        "      low52 = i[y].get('52wkLow')\n",
        "      rangescore = i[y].get('rangescore')\n",
        "      ema20 = i[y].get('ema20')\n",
        "      ema200 = i[y].get('ema200')\n",
        "      high10 = i[y].get('10dayHigh')\n",
        "      low10 = i[y].get('10dayLow')\n",
        "      spreadRatio = i[y].get('spreadRatio')\n",
        "      avVol = i[y].get('relVol')\n",
        "      adx = i[y].get('adx')\n",
        "      data = {'T':time[::-1],'O':open[::-1],'H':high[::-1],\n",
        "              'L':low[::-1],'C':close[::-1],'V':volume[::-1],\n",
        "              'RSI':rsi[::-1],'SMA20':sma20[::-1],'SMA200':sma200[::-1],\n",
        "              'Rate':rate[::-1],'52wkHigh':high52[::-1],'52wkLow':low52[::-1],\n",
        "              'RangeScore':rangescore[::-1],'EMA20':ema20[::-1],'EMA200':ema200[::-1],\n",
        "              '10DayHigh':high10[::-1],'10DayLow':low10[::-1],\n",
        "              'SpreadRatio':spreadRatio[::-1],'RelVol':avVol[::-1], 'ADX':adx[::-1]}\n",
        "      df = pd.DataFrame(data)\n",
        "      df = df.set_index('T')\n",
        "      filename = name + 'stockData.csv'\n",
        "      df.to_csv(filename)\n",
        "      #files.download(filename)"
      ],
      "metadata": {
        "id": "Zylvhi0sixVY"
      },
      "execution_count": null,
      "outputs": []
    },
    {
      "cell_type": "markdown",
      "source": [
        "# Indicator Analysis Functions"
      ],
      "metadata": {
        "id": "apebX3aYqlLC"
      }
    },
    {
      "cell_type": "code",
      "source": [
        "### Shows the accuracy of crosses as indicators (death cross goes down, golden cross goes up)\n",
        "#RESULT FORMAT : [DEATH CROSS ACCURACY PERCENTAGE , GOLDEN CROSS ACCURACY PERCENTAGE , DEATH CROSS DIFFERENCE PERCENTAGE , GOLD CROSS DIFFERENCE PERCENTAGE]\n",
        "def check_cross_accuracy(length_of_comparison,tickers):\n",
        "  final = []\n",
        "  for name in tickers:\n",
        "    death_cross = 0\n",
        "    golden_cross = 0\n",
        "    gold_accurate = 0\n",
        "    death_accurate = 0\n",
        "    death_difference_percentage = 0\n",
        "    gold_difference_percentage = 0\n",
        "    filename = name + 'stockData.csv'\n",
        "    df = pd.read_csv(filename)\n",
        "    for x in range(len(df.values)):\n",
        "      if x-length_of_comparison >= 0:\n",
        "        try:\n",
        "          indicator = df.values[x][9]\n",
        "          today_av = (df.values[x][1] + df.values[x][2] + df.values[x][3] + df.values[x][4]) /4\n",
        "          tomorrow_av = (df.values[x-length_of_comparison][1] + df.values[x-length_of_comparison][2] + df.values[x-length_of_comparison][3] + df.values[x-length_of_comparison][4]) /4\n",
        "          if indicator == 'golden cross':\n",
        "            golden_cross += 1\n",
        "            difference_percentage = (tomorrow_av - today_av) / today_av\n",
        "            gold_difference_percentage += difference_percentage\n",
        "            if today_av < tomorrow_av:\n",
        "              gold_accurate += 1\n",
        "          elif indicator == 'death cross':\n",
        "            death_cross += 1\n",
        "            difference_percentage = (tomorrow_av - today_av) / today_av\n",
        "            death_difference_percentage += difference_percentage\n",
        "            if today_av > tomorrow_av:\n",
        "              death_accurate += 1\n",
        "        except IndexError:\n",
        "          continue\n",
        "    death_score = death_accurate / death_cross\n",
        "    gold_score = gold_accurate / golden_cross\n",
        "    death_difference_percentage /= death_cross\n",
        "    gold_difference_percentage /= golden_cross\n",
        "    result = [death_score, gold_score, death_difference_percentage, gold_difference_percentage]\n",
        "    final.append(result)\n",
        "  return final"
      ],
      "metadata": {
        "id": "YI2EJQ5k8eVq"
      },
      "execution_count": null,
      "outputs": []
    },
    {
      "cell_type": "code",
      "source": [
        "### Shows the accuracy of RSI as an indicator (Oversold: price goes up, undersold: price goes down)\n",
        "#RESULT FORMAT : [OVERSOLD ACCURACY PERCENTAGE , OVERBOUGHT ACCURACY PERCENTAGE , OVERSOLD AVERAGE DIFFERENCE PERCENTAGE , OVERBOUGHT AVERAGE DIFFERENCE PERCENTAGE]\n",
        "def check_RSI(length_of_comparison,tickers):\n",
        "  final = []\n",
        "  for name in tickers:\n",
        "    oversold = 0\n",
        "    overbought = 0  \n",
        "    sold_correct = 0\n",
        "    bought_correct = 0\n",
        "    bought_av_dif = 0\n",
        "    sold_av_dif = 0\n",
        "    filename = name + 'stockData.csv'\n",
        "    df = pd.read_csv(filename)\n",
        "    for x in range(len(df.values)):\n",
        "      if x-length_of_comparison >= 0:\n",
        "        try:\n",
        "          indicator = df.values[x][6]\n",
        "          today_av = (df.values[x][1] + df.values[x][2] + df.values[x][3] + df.values[x][4]) /4\n",
        "          tomorrow_av = (df.values[x-length_of_comparison][1] + df.values[x-length_of_comparison][2] + df.values[x-length_of_comparison][3] + df.values[x-length_of_comparison][4]) /4\n",
        "          if indicator > 60:\n",
        "            overbought += 1\n",
        "            difference_percent = (tomorrow_av - today_av)/today_av\n",
        "            bought_av_dif += difference_percent\n",
        "            if today_av > tomorrow_av:\n",
        "              bought_correct += 1\n",
        "          elif indicator < 30:\n",
        "            oversold += 1\n",
        "            difference_percent = (tomorrow_av - today_av) / today_av\n",
        "            sold_av_dif += difference_percent\n",
        "            if today_av < tomorrow_av:\n",
        "              sold_correct += 1\n",
        "        except IndexError:\n",
        "          continue\n",
        "    bought_av_dif /= overbought \n",
        "    sold_av_dif /= oversold\n",
        "    bought_av_dif *= 100\n",
        "    sold_av_dif *= 100\n",
        "    sold_score = sold_correct / oversold \n",
        "    bought_score = bought_correct / overbought \n",
        "    result = [sold_score, bought_score, sold_av_dif, bought_av_dif]\n",
        "    final.append(result)\n",
        "  return final"
      ],
      "metadata": {
        "id": "PeCQmcv8JuoE"
      },
      "execution_count": null,
      "outputs": []
    },
    {
      "cell_type": "code",
      "source": [
        "### Checks the accuracy of the Price Range Score as an indicator over a specified period of time \n",
        "### Score < 0.3 = oversold , score > o.7 = overbought\n",
        "def checkPriceRangeScoreAccuracy(length_of_comparison,tickers):\n",
        "  final = []\n",
        "  for name in tickers:\n",
        "    filename = name + 'stockData.csv'\n",
        "    df = pd.read_csv(filename)\n",
        "    high_correct = 0\n",
        "    low_correct = 0 \n",
        "    high_total = 0 \n",
        "    low_total = 0\n",
        "    for x in range(len(df.values)):\n",
        "      if x-length_of_comparison >= 0:\n",
        "        try:\n",
        "          today_price = df.values[x][4]\n",
        "          next_price = df.values[x - length_of_comparison][4]\n",
        "          indicator = df.values[x][12]\n",
        "          if indicator < 0.3:\n",
        "            low_total += 1\n",
        "            if today_price < next_price:\n",
        "              low_correct += 1\n",
        "          elif indicator > 0.7:\n",
        "            high_total += 1\n",
        "            if today_price > next_price:\n",
        "              high_correct += 1\n",
        "        except IndexError:\n",
        "          continue\n",
        "    low_ratio = low_correct / low_total \n",
        "    high_ratio = high_correct / high_total\n",
        "    result = [low_ratio, high_ratio]\n",
        "    final.append(result)\n",
        "  return final"
      ],
      "metadata": {
        "id": "hYx3YZ5fpoHO"
      },
      "execution_count": null,
      "outputs": []
    },
    {
      "cell_type": "markdown",
      "source": [
        "# ALGORITHM"
      ],
      "metadata": {
        "id": "9O-Q6W5lqXmC"
      }
    },
    {
      "cell_type": "code",
      "source": [
        "### Build algo here\n",
        "### -50% stop loss\n",
        "### One more indicator necessary\n",
        "def algoStructure(length_of_comparison,tickers,cross_symbol,rsiScore,range_Score,adxScore):\n",
        "  result = []\n",
        "  for name in tickers:\n",
        "    filename = name + 'stockData.csv'\n",
        "    df = pd.read_csv(filename)\n",
        "    trades = []\n",
        "    for x in range(len(df.values)):\n",
        "      rsi = df.values[x][6]\n",
        "      rangeScore = df.values[x][12]\n",
        "      spread_ratio = df.values[x][17]\n",
        "      cross = df.values[x][9]\n",
        "      adx = df.values[x][19]\n",
        "      relVol = df.values[x][18]\n",
        "      if x-length_of_comparison >= 0:\n",
        "        #print(cross)\n",
        "        if adx >= adxScore:\n",
        "          if cross == cross_symbol:\n",
        "            if rsi <= rsiScore:\n",
        "              if rangeScore <= range_Score:\n",
        "                try:\n",
        "                  buy_price = df.values[x][4]\n",
        "                  sell_price = df.values[x-length_of_comparison][4]\n",
        "                  #STOP LOSS\n",
        "                  for u in range(length_of_comparison+1):\n",
        "                    dif = df.values[x-u][4] - buy_price\n",
        "                    if dif <= (buy_price * -0.5):\n",
        "                      sell_price = df.values[x-u][4]\n",
        "                      #print('Stop Triggered at:',sell_price)\n",
        "                  #\n",
        "                  trade = [buy_price,sell_price,x]\n",
        "                  trades.append(trade)\n",
        "                except IndexError:\n",
        "                  break\n",
        "    if len(trades) > 0:\n",
        "      result.append(trades)\n",
        "  return result"
      ],
      "metadata": {
        "id": "mGJE50aYolrM"
      },
      "execution_count": null,
      "outputs": []
    },
    {
      "cell_type": "code",
      "source": [
        "###Automatically decide how many shares of a stock to purchase based on select indicators\n",
        "def adjustLeverage(leverage, adx, rsi, rangeScore, money, buyPrice):\n",
        "  result = int(leverage * ((0.1 * money) / buyPrice))\n",
        "  if adx >= 50:\n",
        "    if rsi <= 25: \n",
        "      if rangeScore <= 0.2: \n",
        "        result = int(leverage * ((0.3 * money) / buyPrice)) \n",
        "  elif adx < 50:\n",
        "    if rsi <= 30: \n",
        "      if rangeScore <= 0.3: \n",
        "        result = int(leverage * ((0.2 * money) / buyPrice))\n",
        "  return result"
      ],
      "metadata": {
        "id": "vuhQbmivqAgb"
      },
      "execution_count": null,
      "outputs": []
    },
    {
      "cell_type": "code",
      "source": [
        "### Build algo here\n",
        "### -50% stop loss\n",
        "### Same as algo1, however this time it starts with $10,000 instead of infinite\n",
        "def algo2(length_of_comparison,tickers,cross_symbol,rsiScore,range_Score,adxScore):\n",
        "  result = []\n",
        "  money = 20000\n",
        "  for name in tickers:\n",
        "    filename = name + 'stockData.csv'\n",
        "    df = pd.read_csv(filename)\n",
        "    trades = []\n",
        "    for x in range(len(df.values)):\n",
        "      rsi = df.values[x][6]\n",
        "      rangeScore = df.values[x][12]\n",
        "      spread_ratio = df.values[x][17]\n",
        "      cross = df.values[x][9]\n",
        "      adx = df.values[x][19]\n",
        "      relVol = df.values[x][18]\n",
        "      leverage = 1\n",
        "      for u in range(len(trades)):\n",
        "        if x == trades[u][2] + length_of_comparison:\n",
        "          money += trades[u][1]\n",
        "      if x-length_of_comparison >= 0:\n",
        "        if adx >= adxScore:\n",
        "          if cross == cross_symbol:\n",
        "            if rsi <= rsiScore:\n",
        "              if rangeScore <= range_Score:\n",
        "                try:\n",
        "                  buy_price = df.values[x][4]\n",
        "                  sell_price = df.values[x-length_of_comparison][4]\n",
        "                  leverage = adjustLeverage(leverage, adx, rsi, rangeScore, money, buy_price)\n",
        "                  if money >= leverage * buy_price:\n",
        "                    #STOP LOSS\n",
        "                    for z in range(1,length_of_comparison):\n",
        "                      dif = df.values[x-z][4] - buy_price\n",
        "                      if dif <= (buy_price * -0.5):\n",
        "                        sell_price = df.values[x-z][4]\n",
        "                    #\n",
        "                    trade = [leverage*buy_price,leverage*sell_price,x,rsi]\n",
        "                    trades.append(trade)\n",
        "                    money -= trade[0] \n",
        "                  elif money >= 1 * buy_price:\n",
        "                    #STOP LOSS\n",
        "                    for i in range(length_of_comparison):\n",
        "                      dif = df.values[x-i][4] - buy_price\n",
        "                      if dif <= (buy_price * -0.5):\n",
        "                        sell_price = df.values[x-i][4]\n",
        "                        #print('Stop Triggered at:',sell_price)\n",
        "                    #\n",
        "                    trade = [buy_price,sell_price,x,rsi]\n",
        "                    trades.append(trade)\n",
        "                    money -= trade[0] \n",
        "                except IndexError:\n",
        "                  break\n",
        "    if len(trades) > 0:\n",
        "      result.append(trades)\n",
        "  print(f'TOTAL MONEY: {money}')\n",
        "  return result"
      ],
      "metadata": {
        "id": "px1szJ0gOaAn"
      },
      "execution_count": null,
      "outputs": []
    },
    {
      "cell_type": "markdown",
      "source": [
        "# LIVE ALGORITHM"
      ],
      "metadata": {
        "id": "eDaZVBy_0I99"
      }
    },
    {
      "cell_type": "code",
      "source": [
        "def send_message(message):\n",
        "  url = 'https://discord.com/api/webhooks/1034561225863987220/6cUTwBisxvNmLyA9f_R8OmG44tm48-XFOi7ANeXBXMD6515CFDt7l0t69JoAIykHdT7K'\n",
        "  webhook = Webhook.from_url(url, adapter=RequestsWebhookAdapter())\n",
        "  webhook.send(message)"
      ],
      "metadata": {
        "id": "zeXx0fOuxzGU"
      },
      "execution_count": null,
      "outputs": []
    },
    {
      "cell_type": "code",
      "source": [
        "### Gets most recent row of data from Finnhub\n",
        "def getLatestRow(user):\n",
        "  key= 'cc06epiad3idf21ispa0'\n",
        "  client = finnhub.Client(api_key=key)\n",
        "  tickers = user\n",
        "  result = []\n",
        "  secperday = 86400\n",
        "  today = get_todays_unix()\n",
        "  av300 = today - 25920000\n",
        "  for i in tickers:\n",
        "    stock = []\n",
        "    data = client.technical_indicator(i,'1',av300, today, indicator='rsi', indicator_fields={\"timeperiod\":20})\n",
        "    adx = client.technical_indicator(i,'D', av300, today, indicator='adx', indicator_fields={\"timeperiod\":20})\n",
        "    sma20 = client.technical_indicator(i,'D',av300, today, indicator='sma', indicator_fields={\"timeperiod\":20})\n",
        "    sma200 = client.technical_indicator(i,'D',av300, today, indicator='sma', indicator_fields={\"timeperiod\":200})\n",
        "    data['sma20'] = sma20.get('sma')\n",
        "    data['sma200'] = sma200.get('sma')\n",
        "    data['52wkHigh'] = addPriceRange(data['h'][::-1],data['l'][::-1],52)[0]\n",
        "    data['52wkLow'] = addPriceRange(data['h'][::-1],data['l'][::-1],52)[1]\n",
        "    data['rangescore'] = addPriceRangeScore(data['52wkHigh'],data['52wkLow'],data['c'])\n",
        "    data['10dayHigh'] = addPriceRange(data['h'][::-1],data['l'][::-1],10)[0]\n",
        "    data['10dayLow'] = addPriceRange(data['h'][::-1],data['l'][::-1],10)[1]\n",
        "    data['spreadRatio'] = addMarketSpreadRatio(data['10dayHigh'],data['10dayLow'],52)\n",
        "    data['relVol'] = addRelVol(data['v'],52)\n",
        "    data['adx'] = adx.get('adx')\n",
        "    stock.append(data)\n",
        "    stock.append(i)\n",
        "    result.append(stock)\n",
        "  return result"
      ],
      "metadata": {
        "id": "BtmjHIwU1DJg"
      },
      "execution_count": null,
      "outputs": []
    },
    {
      "cell_type": "code",
      "source": [
        "'''\n",
        "Live version of the algorithm\n",
        "Runs via discord notification\n",
        "Sell security after 10 days of purchase\n",
        "'''\n",
        "def live_algo(tickers,rsiScore,adxScore,rangescore):\n",
        "  run = True\n",
        "  trades = []\n",
        "  while run:\n",
        "    try:\n",
        "      data = getLatestRow(tickers)\n",
        "      for x in range(len(data)):\n",
        "        name = data[x][1]\n",
        "        o = data[x][0].get('o')[-1]\n",
        "        h = data[x][0].get('h')[-1]\n",
        "        l = data[x][0].get('l')[-1]\n",
        "        c = data[x][0].get('c')[-1]\n",
        "        rsi = data[x][0].get('rsi')[-1]\n",
        "        adx = data[x][0].get('adx')[-1]\n",
        "        sma20 = data[x][0].get('sma20')[-1]\n",
        "        sma200 = data[x][0].get('sma200')[-1]\n",
        "        rangeScore = data[x][0].get('rangescore')[-1]\n",
        "        if sma20 > sma200:\n",
        "          if adx >= adxScore:\n",
        "            if rsi <= rsiScore:\n",
        "              if rangeScore <= rangescore:\n",
        "                send_message(f'Buy {name}. RSI: {rsi}. ADX: {adx}. STOCHASTIC: {rangeScore}.')\n",
        "                stock = ['B',name, c]\n",
        "                trades.append(stock)\n",
        "      time.sleep(60)\n",
        "    except KeyboardInterrupt:\n",
        "      return trades\n",
        "\n",
        "\n",
        "tickers = ['AAPL','BAC','KO','CVX','AXP','SPY']\n",
        "live_algo(tickers,40,20,0.29)"
      ],
      "metadata": {
        "id": "OfvAGeSry5Ca",
        "colab": {
          "base_uri": "https://localhost:8080/"
        },
        "outputId": "ee0c14db-8464-4b18-c010-c4d0ba7a1cdf"
      },
      "execution_count": null,
      "outputs": [
        {
          "output_type": "execute_result",
          "data": {
            "text/plain": [
              "[]"
            ]
          },
          "metadata": {},
          "execution_count": 37
        }
      ]
    },
    {
      "cell_type": "markdown",
      "source": [
        "# Algorithm Analysis Functions"
      ],
      "metadata": {
        "id": "aVUvWtr9s0DJ"
      }
    },
    {
      "cell_type": "code",
      "source": [
        "### Under development\n",
        "def getBadTrades(trades,tickers):\n",
        "  result = []\n",
        "  for item in range(len(trades)):\n",
        "    bad_trades = []\n",
        "    for trade in trades[item]:\n",
        "      ticker = tickers[item]\n",
        "      buy = trade[0]\n",
        "      sell = trade[1]\n",
        "      profit = sell - buy\n",
        "      index = trade[2] \n",
        "      if profit < 0:\n",
        "        badTrade = [ticker,buy,sell,profit,index]\n",
        "        bad_trades.append(badTrade)\n",
        "    result.append(bad_trades)\n",
        "  return result"
      ],
      "metadata": {
        "id": "Adtupfmps-mE"
      },
      "execution_count": null,
      "outputs": []
    },
    {
      "cell_type": "code",
      "source": [
        "### UNDER DEVELOPMENT\n",
        "def getGoodTrades(trades,tickers):\n",
        "  result = []\n",
        "  for item in range(len(trades)):\n",
        "    good_trades = []\n",
        "    for trade in trades[item]:\n",
        "      ticker = tickers[item]\n",
        "      buy = trade[0]\n",
        "      sell = trade[1]\n",
        "      profit = sell - buy\n",
        "      index = trade[2] \n",
        "      if profit > 0:\n",
        "        goodTrade = [ticker,buy,sell,profit,index]\n",
        "        good_trades.append(goodTrade)\n",
        "    result.append(good_trades)\n",
        "  return result"
      ],
      "metadata": {
        "id": "Igj5GSTnmReW"
      },
      "execution_count": null,
      "outputs": []
    },
    {
      "cell_type": "code",
      "source": [
        "def getStandardDeviation(df,buyIndex,u,trades,indicator):\n",
        "  sum = 0\n",
        "  for trade in df:\n",
        "    sum += (df[buyIndex][indicator] - u) ** 2\n",
        "  sum /= len(df)\n",
        "  result = math.sqrt(sum)\n",
        "  return result"
      ],
      "metadata": {
        "id": "vuaQ2AojSEOI"
      },
      "execution_count": null,
      "outputs": []
    },
    {
      "cell_type": "code",
      "source": [
        "### find the mean and standard deviation of a certain indicator \n",
        "def analyzeTrades(trades,tickers, indicator):\n",
        "  '''\n",
        "  ARGS: \n",
        "    indicator (string): indicator user wants to study. rsi, rangescore, or spreadratio.\n",
        "  '''\n",
        "  result = []\n",
        "  indicators = {'rsi': 6, 'rangescore': 12, 'spreadratio': 17}\n",
        "  for ticker in range(len(trades)):\n",
        "    filename = tickers[ticker] + 'stockData.csv'\n",
        "    df = pd.read_csv(filename)\n",
        "    if len(trades[ticker]) > 0:\n",
        "      mean = 0\n",
        "      n = len(trades[ticker])\n",
        "      for y in trades[ticker]:\n",
        "        buyIndex = y[4] \n",
        "        sellIndex = y[4] - 10\n",
        "        mean += df.values[buyIndex][indicators.get(indicator)]\n",
        "      mean /= n\n",
        "      std = getStandardDeviation(df.values, buyIndex, mean, trades, indicators.get(indicator))\n",
        "      data = [mean, std]\n",
        "      result.append(data)\n",
        "  return result"
      ],
      "metadata": {
        "id": "EpJbboBX0uL4"
      },
      "execution_count": null,
      "outputs": []
    },
    {
      "cell_type": "code",
      "source": [
        "def check_algo(trades,tickers):\n",
        "  total = 0\n",
        "  av_rate_of_success = 0\n",
        "  denominator = 0\n",
        "  totalTrades = 0\n",
        "  for trade in range(len(trades)):\n",
        "    if len(trades[trade]) > 0:\n",
        "      profit = 0\n",
        "      denominator += 1\n",
        "      good = 0\n",
        "      total_trades = len(trades[trade])\n",
        "      for x in trades[trade]:\n",
        "        buy = x[0]\n",
        "        sell = x[1]\n",
        "        index = x[2]\n",
        "        difference = sell - buy\n",
        "        profit += difference\n",
        "        total += difference \n",
        "        if difference >= 0:\n",
        "          good += 1 \n",
        "      ratio = good / total_trades\n",
        "      av_rate_of_success += ratio \n",
        "      totalTrades += total_trades\n",
        "  if denominator > 0:\n",
        "    av_rate_of_success /= denominator\n",
        "    return [total, av_rate_of_success, totalTrades]\n",
        "  else:\n",
        "    return [0,0]"
      ],
      "metadata": {
        "id": "aJBvQkbjSGpc"
      },
      "execution_count": null,
      "outputs": []
    },
    {
      "cell_type": "code",
      "source": [
        "### Returns most accurate numbers \n",
        "### THIS SHIT TAKES AB 2 HOURS PER TICKER TO RUN SO.....\n",
        "def analyzeAlgo(tickers):\n",
        "  result = []\n",
        "  cross_symbol = 'golden cross'\n",
        "  highProfit = 0\n",
        "  highRate = 0\n",
        "  adxScore = 20\n",
        "  for x in range(30):\n",
        "    timeperiod = x +1\n",
        "    for i in range(10,40):\n",
        "      rsiScore = i + 1\n",
        "      range_score = 0\n",
        "      for u in range(40):\n",
        "        range_score += 0.01\n",
        "        trades = algoStructure(timeperiod,tickers,cross_symbol,rsiScore,range_score,adxScore)\n",
        "        if len(trades) > 0:\n",
        "          data = check_algo(trades,tickers)\n",
        "          profit = data[0]\n",
        "          successRate = data[1]\n",
        "          totalTrades = data[2]\n",
        "          if totalTrades >= 10 :\n",
        "            if profit > highProfit:\n",
        "                highProfit = profit\n",
        "                if successRate >= (highRate - 0.1):\n",
        "                  highRate = successRate\n",
        "                  rsi = rsiScore\n",
        "                  rangeScore = range_score\n",
        "                  timePeriod = timeperiod\n",
        "  result = [rsi,rangeScore,timePeriod]\n",
        "  return result\n"
      ],
      "metadata": {
        "id": "acOEj9sGbQlS"
      },
      "execution_count": null,
      "outputs": []
    },
    {
      "cell_type": "markdown",
      "source": [
        "# RUN"
      ],
      "metadata": {
        "id": "-1MpfTJFrYO1"
      }
    },
    {
      "cell_type": "code",
      "source": [
        "####### RUN OBSERVATIONS IN HERE ########\n",
        "###BELOW TICKERS ARE TAKEN FROM BERKSHIRE HATHAWAY HOLDINGS\n",
        "berkshireTickers = ['AAPL','BAC','KO','CVX','AXP','SPY']\n",
        "pelosiTickers = ['AAPL', 'MSFT', 'FB', 'AMZN']\n",
        "def get_csv(tickers):\n",
        "  data = getFinnhubData(tickers)\n",
        "  assembleCSV(data)\n",
        "\n",
        "def main(tickers):\n",
        "  get_csv(tickers)\n",
        "  trades = algo2(10,tickers,'golden cross',40,0.29,20)\n",
        "  btrades = getBadTrades(trades,tickers)\n",
        "  print(analyzeTrades(btrades, tickers, 'rsi'))\n",
        "main(berkshireTickers)"
      ],
      "metadata": {
        "id": "4fiDXsBES7dd",
        "colab": {
          "base_uri": "https://localhost:8080/",
          "height": 346
        },
        "outputId": "4e6480d1-a8c6-45bb-c899-575bce0a7bef"
      },
      "execution_count": null,
      "outputs": [
        {
          "output_type": "error",
          "ename": "FinnhubAPIException",
          "evalue": "ignored",
          "traceback": [
            "\u001b[0;31m---------------------------------------------------------------------------\u001b[0m",
            "\u001b[0;31mFinnhubAPIException\u001b[0m                       Traceback (most recent call last)",
            "\u001b[0;32m<ipython-input-45-14bc3dceceb6>\u001b[0m in \u001b[0;36m<module>\u001b[0;34m\u001b[0m\n\u001b[1;32m     12\u001b[0m   \u001b[0mbtrades\u001b[0m \u001b[0;34m=\u001b[0m \u001b[0mgetBadTrades\u001b[0m\u001b[0;34m(\u001b[0m\u001b[0mtrades\u001b[0m\u001b[0;34m,\u001b[0m\u001b[0mtickers\u001b[0m\u001b[0;34m)\u001b[0m\u001b[0;34m\u001b[0m\u001b[0;34m\u001b[0m\u001b[0m\n\u001b[1;32m     13\u001b[0m   \u001b[0mprint\u001b[0m\u001b[0;34m(\u001b[0m\u001b[0manalyzeTrades\u001b[0m\u001b[0;34m(\u001b[0m\u001b[0mbtrades\u001b[0m\u001b[0;34m,\u001b[0m \u001b[0mtickers\u001b[0m\u001b[0;34m,\u001b[0m \u001b[0;34m'rsi'\u001b[0m\u001b[0;34m)\u001b[0m\u001b[0;34m)\u001b[0m\u001b[0;34m\u001b[0m\u001b[0;34m\u001b[0m\u001b[0m\n\u001b[0;32m---> 14\u001b[0;31m \u001b[0mmain\u001b[0m\u001b[0;34m(\u001b[0m\u001b[0mberkshireTickers\u001b[0m\u001b[0;34m)\u001b[0m\u001b[0;34m\u001b[0m\u001b[0;34m\u001b[0m\u001b[0m\n\u001b[0m",
            "\u001b[0;32m<ipython-input-45-14bc3dceceb6>\u001b[0m in \u001b[0;36mmain\u001b[0;34m(tickers)\u001b[0m\n\u001b[1;32m      8\u001b[0m \u001b[0;34m\u001b[0m\u001b[0m\n\u001b[1;32m      9\u001b[0m \u001b[0;32mdef\u001b[0m \u001b[0mmain\u001b[0m\u001b[0;34m(\u001b[0m\u001b[0mtickers\u001b[0m\u001b[0;34m)\u001b[0m\u001b[0;34m:\u001b[0m\u001b[0;34m\u001b[0m\u001b[0;34m\u001b[0m\u001b[0m\n\u001b[0;32m---> 10\u001b[0;31m   \u001b[0mget_csv\u001b[0m\u001b[0;34m(\u001b[0m\u001b[0mtickers\u001b[0m\u001b[0;34m)\u001b[0m\u001b[0;34m\u001b[0m\u001b[0;34m\u001b[0m\u001b[0m\n\u001b[0m\u001b[1;32m     11\u001b[0m   \u001b[0mtrades\u001b[0m \u001b[0;34m=\u001b[0m \u001b[0malgo2\u001b[0m\u001b[0;34m(\u001b[0m\u001b[0;36m10\u001b[0m\u001b[0;34m,\u001b[0m\u001b[0mtickers\u001b[0m\u001b[0;34m,\u001b[0m\u001b[0;34m'golden cross'\u001b[0m\u001b[0;34m,\u001b[0m\u001b[0;36m40\u001b[0m\u001b[0;34m,\u001b[0m\u001b[0;36m0.29\u001b[0m\u001b[0;34m,\u001b[0m\u001b[0;36m20\u001b[0m\u001b[0;34m)\u001b[0m\u001b[0;34m\u001b[0m\u001b[0;34m\u001b[0m\u001b[0m\n\u001b[1;32m     12\u001b[0m   \u001b[0mbtrades\u001b[0m \u001b[0;34m=\u001b[0m \u001b[0mgetBadTrades\u001b[0m\u001b[0;34m(\u001b[0m\u001b[0mtrades\u001b[0m\u001b[0;34m,\u001b[0m\u001b[0mtickers\u001b[0m\u001b[0;34m)\u001b[0m\u001b[0;34m\u001b[0m\u001b[0;34m\u001b[0m\u001b[0m\n",
            "\u001b[0;32m<ipython-input-45-14bc3dceceb6>\u001b[0m in \u001b[0;36mget_csv\u001b[0;34m(tickers)\u001b[0m\n\u001b[1;32m      4\u001b[0m \u001b[0mpelosiTickers\u001b[0m \u001b[0;34m=\u001b[0m \u001b[0;34m[\u001b[0m\u001b[0;34m'AAPL'\u001b[0m\u001b[0;34m,\u001b[0m \u001b[0;34m'MSFT'\u001b[0m\u001b[0;34m,\u001b[0m \u001b[0;34m'FB'\u001b[0m\u001b[0;34m,\u001b[0m \u001b[0;34m'AMZN'\u001b[0m\u001b[0;34m]\u001b[0m\u001b[0;34m\u001b[0m\u001b[0;34m\u001b[0m\u001b[0m\n\u001b[1;32m      5\u001b[0m \u001b[0;32mdef\u001b[0m \u001b[0mget_csv\u001b[0m\u001b[0;34m(\u001b[0m\u001b[0mtickers\u001b[0m\u001b[0;34m)\u001b[0m\u001b[0;34m:\u001b[0m\u001b[0;34m\u001b[0m\u001b[0;34m\u001b[0m\u001b[0m\n\u001b[0;32m----> 6\u001b[0;31m   \u001b[0mdata\u001b[0m \u001b[0;34m=\u001b[0m \u001b[0mgetFinnhubData\u001b[0m\u001b[0;34m(\u001b[0m\u001b[0mtickers\u001b[0m\u001b[0;34m)\u001b[0m\u001b[0;34m\u001b[0m\u001b[0;34m\u001b[0m\u001b[0m\n\u001b[0m\u001b[1;32m      7\u001b[0m   \u001b[0massembleCSV\u001b[0m\u001b[0;34m(\u001b[0m\u001b[0mdata\u001b[0m\u001b[0;34m)\u001b[0m\u001b[0;34m\u001b[0m\u001b[0;34m\u001b[0m\u001b[0m\n\u001b[1;32m      8\u001b[0m \u001b[0;34m\u001b[0m\u001b[0m\n",
            "\u001b[0;32m<ipython-input-32-07389251ee59>\u001b[0m in \u001b[0;36mgetFinnhubData\u001b[0;34m(user)\u001b[0m\n\u001b[1;32m     13\u001b[0m   \u001b[0;32mfor\u001b[0m \u001b[0mi\u001b[0m \u001b[0;32min\u001b[0m \u001b[0mtickers\u001b[0m\u001b[0;34m:\u001b[0m\u001b[0;34m\u001b[0m\u001b[0;34m\u001b[0m\u001b[0m\n\u001b[1;32m     14\u001b[0m     \u001b[0mstock\u001b[0m \u001b[0;34m=\u001b[0m \u001b[0;34m[\u001b[0m\u001b[0;34m]\u001b[0m\u001b[0;34m\u001b[0m\u001b[0;34m\u001b[0m\u001b[0m\n\u001b[0;32m---> 15\u001b[0;31m     \u001b[0mdata\u001b[0m \u001b[0;34m=\u001b[0m \u001b[0mclient\u001b[0m\u001b[0;34m.\u001b[0m\u001b[0mtechnical_indicator\u001b[0m\u001b[0;34m(\u001b[0m\u001b[0mi\u001b[0m\u001b[0;34m,\u001b[0m\u001b[0;34m'D'\u001b[0m\u001b[0;34m,\u001b[0m\u001b[0mav300\u001b[0m\u001b[0;34m,\u001b[0m \u001b[0mtoday\u001b[0m\u001b[0;34m,\u001b[0m \u001b[0mindicator\u001b[0m\u001b[0;34m=\u001b[0m\u001b[0;34m'rsi'\u001b[0m\u001b[0;34m,\u001b[0m \u001b[0mindicator_fields\u001b[0m\u001b[0;34m=\u001b[0m\u001b[0;34m{\u001b[0m\u001b[0;34m\"timeperiod\"\u001b[0m\u001b[0;34m:\u001b[0m\u001b[0;36m20\u001b[0m\u001b[0;34m}\u001b[0m\u001b[0;34m)\u001b[0m\u001b[0;34m\u001b[0m\u001b[0;34m\u001b[0m\u001b[0m\n\u001b[0m\u001b[1;32m     16\u001b[0m     \u001b[0msma20\u001b[0m \u001b[0;34m=\u001b[0m \u001b[0mclient\u001b[0m\u001b[0;34m.\u001b[0m\u001b[0mtechnical_indicator\u001b[0m\u001b[0;34m(\u001b[0m\u001b[0mi\u001b[0m\u001b[0;34m,\u001b[0m\u001b[0;34m'D'\u001b[0m\u001b[0;34m,\u001b[0m\u001b[0mav300\u001b[0m\u001b[0;34m,\u001b[0m \u001b[0mtoday\u001b[0m\u001b[0;34m,\u001b[0m \u001b[0mindicator\u001b[0m\u001b[0;34m=\u001b[0m\u001b[0;34m'sma'\u001b[0m\u001b[0;34m,\u001b[0m \u001b[0mindicator_fields\u001b[0m\u001b[0;34m=\u001b[0m\u001b[0;34m{\u001b[0m\u001b[0;34m\"timeperiod\"\u001b[0m\u001b[0;34m:\u001b[0m\u001b[0;36m20\u001b[0m\u001b[0;34m}\u001b[0m\u001b[0;34m)\u001b[0m\u001b[0;34m\u001b[0m\u001b[0;34m\u001b[0m\u001b[0m\n\u001b[1;32m     17\u001b[0m     \u001b[0msma200\u001b[0m \u001b[0;34m=\u001b[0m \u001b[0mclient\u001b[0m\u001b[0;34m.\u001b[0m\u001b[0mtechnical_indicator\u001b[0m\u001b[0;34m(\u001b[0m\u001b[0mi\u001b[0m\u001b[0;34m,\u001b[0m\u001b[0;34m'D'\u001b[0m\u001b[0;34m,\u001b[0m\u001b[0mav300\u001b[0m\u001b[0;34m,\u001b[0m \u001b[0mtoday\u001b[0m\u001b[0;34m,\u001b[0m \u001b[0mindicator\u001b[0m\u001b[0;34m=\u001b[0m\u001b[0;34m'sma'\u001b[0m\u001b[0;34m,\u001b[0m \u001b[0mindicator_fields\u001b[0m\u001b[0;34m=\u001b[0m\u001b[0;34m{\u001b[0m\u001b[0;34m\"timeperiod\"\u001b[0m\u001b[0;34m:\u001b[0m\u001b[0;36m200\u001b[0m\u001b[0;34m}\u001b[0m\u001b[0;34m)\u001b[0m\u001b[0;34m\u001b[0m\u001b[0;34m\u001b[0m\u001b[0m\n",
            "\u001b[0;32m/usr/local/lib/python3.7/dist-packages/finnhub/client.py\u001b[0m in \u001b[0;36mtechnical_indicator\u001b[0;34m(self, symbol, resolution, _from, to, indicator, indicator_fields)\u001b[0m\n\u001b[1;32m    297\u001b[0m         }, indicator_fields)\n\u001b[1;32m    298\u001b[0m \u001b[0;34m\u001b[0m\u001b[0m\n\u001b[0;32m--> 299\u001b[0;31m         \u001b[0;32mreturn\u001b[0m \u001b[0mself\u001b[0m\u001b[0;34m.\u001b[0m\u001b[0m_get\u001b[0m\u001b[0;34m(\u001b[0m\u001b[0;34m\"/indicator\"\u001b[0m\u001b[0;34m,\u001b[0m \u001b[0mparams\u001b[0m\u001b[0;34m=\u001b[0m\u001b[0mparams\u001b[0m\u001b[0;34m)\u001b[0m\u001b[0;34m\u001b[0m\u001b[0;34m\u001b[0m\u001b[0m\n\u001b[0m\u001b[1;32m    300\u001b[0m \u001b[0;34m\u001b[0m\u001b[0m\n\u001b[1;32m    301\u001b[0m     \u001b[0;32mdef\u001b[0m \u001b[0mstock_splits\u001b[0m\u001b[0;34m(\u001b[0m\u001b[0mself\u001b[0m\u001b[0;34m,\u001b[0m \u001b[0msymbol\u001b[0m\u001b[0;34m,\u001b[0m \u001b[0m_from\u001b[0m\u001b[0;34m,\u001b[0m \u001b[0mto\u001b[0m\u001b[0;34m)\u001b[0m\u001b[0;34m:\u001b[0m\u001b[0;34m\u001b[0m\u001b[0;34m\u001b[0m\u001b[0m\n",
            "\u001b[0;32m/usr/local/lib/python3.7/dist-packages/finnhub/client.py\u001b[0m in \u001b[0;36m_get\u001b[0;34m(self, path, **kwargs)\u001b[0m\n\u001b[1;32m     69\u001b[0m \u001b[0;34m\u001b[0m\u001b[0m\n\u001b[1;32m     70\u001b[0m     \u001b[0;32mdef\u001b[0m \u001b[0m_get\u001b[0m\u001b[0;34m(\u001b[0m\u001b[0mself\u001b[0m\u001b[0;34m,\u001b[0m \u001b[0mpath\u001b[0m\u001b[0;34m,\u001b[0m \u001b[0;34m**\u001b[0m\u001b[0mkwargs\u001b[0m\u001b[0;34m)\u001b[0m\u001b[0;34m:\u001b[0m\u001b[0;34m\u001b[0m\u001b[0;34m\u001b[0m\u001b[0m\n\u001b[0;32m---> 71\u001b[0;31m         \u001b[0;32mreturn\u001b[0m \u001b[0mself\u001b[0m\u001b[0;34m.\u001b[0m\u001b[0m_request\u001b[0m\u001b[0;34m(\u001b[0m\u001b[0;34m\"get\"\u001b[0m\u001b[0;34m,\u001b[0m \u001b[0mpath\u001b[0m\u001b[0;34m,\u001b[0m \u001b[0;34m**\u001b[0m\u001b[0mkwargs\u001b[0m\u001b[0;34m)\u001b[0m\u001b[0;34m\u001b[0m\u001b[0;34m\u001b[0m\u001b[0m\n\u001b[0m\u001b[1;32m     72\u001b[0m \u001b[0;34m\u001b[0m\u001b[0m\n\u001b[1;32m     73\u001b[0m     \u001b[0;34m@\u001b[0m\u001b[0mproperty\u001b[0m\u001b[0;34m\u001b[0m\u001b[0;34m\u001b[0m\u001b[0m\n",
            "\u001b[0;32m/usr/local/lib/python3.7/dist-packages/finnhub/client.py\u001b[0m in \u001b[0;36m_request\u001b[0;34m(self, method, path, **kwargs)\u001b[0m\n\u001b[1;32m     39\u001b[0m \u001b[0;34m\u001b[0m\u001b[0m\n\u001b[1;32m     40\u001b[0m         \u001b[0mresponse\u001b[0m \u001b[0;34m=\u001b[0m \u001b[0mgetattr\u001b[0m\u001b[0;34m(\u001b[0m\u001b[0mself\u001b[0m\u001b[0;34m.\u001b[0m\u001b[0m_session\u001b[0m\u001b[0;34m,\u001b[0m \u001b[0mmethod\u001b[0m\u001b[0;34m)\u001b[0m\u001b[0;34m(\u001b[0m\u001b[0muri\u001b[0m\u001b[0;34m,\u001b[0m \u001b[0;34m**\u001b[0m\u001b[0mkwargs\u001b[0m\u001b[0;34m)\u001b[0m\u001b[0;34m\u001b[0m\u001b[0;34m\u001b[0m\u001b[0m\n\u001b[0;32m---> 41\u001b[0;31m         \u001b[0;32mreturn\u001b[0m \u001b[0mself\u001b[0m\u001b[0;34m.\u001b[0m\u001b[0m_handle_response\u001b[0m\u001b[0;34m(\u001b[0m\u001b[0mresponse\u001b[0m\u001b[0;34m)\u001b[0m\u001b[0;34m\u001b[0m\u001b[0;34m\u001b[0m\u001b[0m\n\u001b[0m\u001b[1;32m     42\u001b[0m \u001b[0;34m\u001b[0m\u001b[0m\n\u001b[1;32m     43\u001b[0m     \u001b[0;34m@\u001b[0m\u001b[0mstaticmethod\u001b[0m\u001b[0;34m\u001b[0m\u001b[0;34m\u001b[0m\u001b[0m\n",
            "\u001b[0;32m/usr/local/lib/python3.7/dist-packages/finnhub/client.py\u001b[0m in \u001b[0;36m_handle_response\u001b[0;34m(response)\u001b[0m\n\u001b[1;32m     44\u001b[0m     \u001b[0;32mdef\u001b[0m \u001b[0m_handle_response\u001b[0m\u001b[0;34m(\u001b[0m\u001b[0mresponse\u001b[0m\u001b[0;34m)\u001b[0m\u001b[0;34m:\u001b[0m\u001b[0;34m\u001b[0m\u001b[0;34m\u001b[0m\u001b[0m\n\u001b[1;32m     45\u001b[0m         \u001b[0;32mif\u001b[0m \u001b[0;32mnot\u001b[0m \u001b[0mresponse\u001b[0m\u001b[0;34m.\u001b[0m\u001b[0mok\u001b[0m\u001b[0;34m:\u001b[0m\u001b[0;34m\u001b[0m\u001b[0;34m\u001b[0m\u001b[0m\n\u001b[0;32m---> 46\u001b[0;31m             \u001b[0;32mraise\u001b[0m \u001b[0mFinnhubAPIException\u001b[0m\u001b[0;34m(\u001b[0m\u001b[0mresponse\u001b[0m\u001b[0;34m)\u001b[0m\u001b[0;34m\u001b[0m\u001b[0;34m\u001b[0m\u001b[0m\n\u001b[0m\u001b[1;32m     47\u001b[0m \u001b[0;34m\u001b[0m\u001b[0m\n\u001b[1;32m     48\u001b[0m         \u001b[0;32mtry\u001b[0m\u001b[0;34m:\u001b[0m\u001b[0;34m\u001b[0m\u001b[0;34m\u001b[0m\u001b[0m\n",
            "\u001b[0;31mFinnhubAPIException\u001b[0m: FinnhubAPIException(status_code: 429): API limit reached. Please try again later. Remaining Limit: 0"
          ]
        }
      ]
    },
    {
      "cell_type": "markdown",
      "source": [
        "1.   Bollinger Bands \n",
        "2.   On-Balance Volume \n",
        ">>>Make a function that determines how many shares of a security to purchase based on indicators \n",
        "\n",
        "\n"
      ],
      "metadata": {
        "id": "Qpg6u7yxzPJR"
      }
    }
  ]
}